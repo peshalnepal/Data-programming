{
  "nbformat": 4,
  "nbformat_minor": 0,
  "metadata": {
    "colab": {
      "provenance": []
    },
    "kernelspec": {
      "name": "python3",
      "display_name": "Python 3"
    },
    "language_info": {
      "name": "python"
    }
  },
  "cells": [
    {
      "cell_type": "code",
      "source": [
        "#Questions 1:\n",
        "a = 0\n",
        "\n",
        "def b():\n",
        "    global a\n",
        "    a = c(a)\n",
        "\n",
        "def c(a):\n",
        "    return a + 2\n",
        "\n",
        "b()\n",
        "b()\n",
        "b()\n",
        "print(a)\n"
      ],
      "metadata": {
        "colab": {
          "base_uri": "https://localhost:8080/"
        },
        "id": "kR5_mt0GQClJ",
        "outputId": "40db59a4-cee0-4da7-e139-2eafd199146b"
      },
      "execution_count": 1,
      "outputs": [
        {
          "output_type": "stream",
          "name": "stdout",
          "text": [
            "6\n"
          ]
        }
      ]
    },
    {
      "cell_type": "code",
      "source": [
        "#Questions 2:\n",
        "def fileLength(file_name):\n",
        "    try:\n",
        "        file = open(file_name)\n",
        "        contents = file.read()\n",
        "        file.close()\n",
        "        print(len(contents))\n",
        "    except FileNotFoundError:\n",
        "        print(f\"File {file_name} not found.\")\n",
        "\n",
        "fileLength(\"/content/midterm.py\")\n",
        "\n",
        "fileLength(\"idterm.py\")"
      ],
      "metadata": {
        "colab": {
          "base_uri": "https://localhost:8080/"
        },
        "id": "UCXsYPSoQHx_",
        "outputId": "723408c3-49de-4cd6-b6a5-29f3e237fcf1"
      },
      "execution_count": 12,
      "outputs": [
        {
          "output_type": "stream",
          "name": "stdout",
          "text": [
            "57\n",
            "File idterm.py not found.\n"
          ]
        }
      ]
    },
    {
      "cell_type": "code",
      "source": [
        "# Questions 3:\n",
        "class Marsupial:\n",
        "    def __init__(self):\n",
        "        self.pouch = []\n",
        "\n",
        "    def put_in_pouch(self, item):\n",
        "        self.pouch.append(item)\n",
        "\n",
        "    def pouch_contents(self):\n",
        "        return self.pouch\n",
        "\n",
        "class Kangaroo(Marsupial):\n",
        "    def __init__(self, x, y):\n",
        "        super().__init__()\n",
        "        self.x = x\n",
        "        self.y = y\n",
        "\n",
        "    def jump(self, dx, dy):\n",
        "        self.x += dx\n",
        "        self.y += dy\n",
        "\n",
        "    def __str__(self):\n",
        "        return f\"I am a Kangaroo located at coordinates ({self.x},{self.y})\"\n",
        "\n",
        "m = Marsupial()\n",
        "m.put_in_pouch('doll')\n",
        "m.put_in_pouch('firetruck')\n",
        "m.put_in_pouch('kitten')\n",
        "print(\"Pouch contents:\", m.pouch_contents())\n",
        "k = Kangaroo(0, 0)\n",
        "print(k)\n",
        "k.put_in_pouch('doll')\n",
        "k.put_in_pouch('firetruck')\n",
        "k.put_in_pouch('kitten')\n",
        "print(\"Pouch contents:\", k.pouch_contents())\n",
        "k.jump(1, 0)\n",
        "k.jump(1, 0)\n",
        "k.jump(1, 0)\n",
        "print(k)\n"
      ],
      "metadata": {
        "colab": {
          "base_uri": "https://localhost:8080/"
        },
        "id": "dnMm0Np8RkvR",
        "outputId": "e39de092-299d-4a99-8ed8-f4d37379add1"
      },
      "execution_count": 9,
      "outputs": [
        {
          "output_type": "stream",
          "name": "stdout",
          "text": [
            "Pouch contents: ['doll', 'firetruck', 'kitten']\n",
            "I am a Kangaroo located at coordinates (0,0)\n",
            "Pouch contents: ['doll', 'firetruck', 'kitten']\n",
            "I am a Kangaroo located at coordinates (3,0)\n"
          ]
        }
      ]
    },
    {
      "cell_type": "code",
      "source": [
        "# Question 4\n",
        "def collatz(x):\n",
        "    print(x)\n",
        "    if x == 1:\n",
        "        return\n",
        "    elif x % 2 == 0:\n",
        "        collatz(x // 2)\n",
        "    else:\n",
        "        collatz(3 * x + 1)\n",
        "\n",
        "print(collatz(1) )\n",
        "print(collatz(10))"
      ],
      "metadata": {
        "colab": {
          "base_uri": "https://localhost:8080/"
        },
        "id": "d0jlQ7t4ScLx",
        "outputId": "d13e1a93-dc0b-4711-a207-a204f9e738db"
      },
      "execution_count": 18,
      "outputs": [
        {
          "output_type": "stream",
          "name": "stdout",
          "text": [
            "1\n",
            "None\n",
            "10\n",
            "5\n",
            "16\n",
            "8\n",
            "4\n",
            "2\n",
            "1\n",
            "None\n"
          ]
        }
      ]
    },
    {
      "cell_type": "code",
      "source": [
        "\n",
        "# Question 5:\n",
        "def binary(n):\n",
        "    if n == 0:\n",
        "        print(0, end=\"\")\n",
        "    elif n > 0:\n",
        "        binary(n // 2)\n",
        "        print(n % 2, end=\"\")\n",
        "\n",
        "binary(9)\n",
        "print()\n",
        "binary(3)"
      ],
      "metadata": {
        "colab": {
          "base_uri": "https://localhost:8080/"
        },
        "id": "ny02efUiTsKj",
        "outputId": "3071ca37-f383-4ef7-ace3-f8cd635cdd78"
      },
      "execution_count": 21,
      "outputs": [
        {
          "output_type": "stream",
          "name": "stdout",
          "text": [
            "01001\n",
            "011"
          ]
        }
      ]
    },
    {
      "cell_type": "code",
      "source": [
        "#Questions 6:\n",
        "from html.parser import HTMLParser\n",
        "\n",
        "class HeadingParser(HTMLParser):\n",
        "    def __init__(self):\n",
        "        super().__init__()\n",
        "        self.in_heading = False\n",
        "        self.heading_level = 0\n",
        "\n",
        "    def handle_starttag(self, tag, attrs):\n",
        "        if tag.startswith(\"h\") and tag[1:].isdigit():\n",
        "            self.in_heading = True\n",
        "            self.heading_level = int(tag[1:])\n",
        "\n",
        "    def handle_endtag(self, tag):\n",
        "        if tag.startswith(\"h\") and tag[1:].isdigit():\n",
        "            self.in_heading = False\n",
        "\n",
        "    def handle_data(self, data):\n",
        "        if self.in_heading:\n",
        "            print(\" \" * (self.heading_level - 1) + data)\n",
        "\n",
        "with open(\"w3c.html\") as infile:\n",
        "    content = infile.read()\n",
        "parser = HeadingParser()\n",
        "parser.feed(content)"
      ],
      "metadata": {
        "colab": {
          "base_uri": "https://localhost:8080/"
        },
        "id": "G0YMSWyCT_4Z",
        "outputId": "724d0248-fecf-4288-c8e9-b9ac62da497a"
      },
      "execution_count": 23,
      "outputs": [
        {
          "output_type": "stream",
          "name": "stdout",
          "text": [
            "W3C Mission\n",
            " Principles\n"
          ]
        }
      ]
    },
    {
      "cell_type": "code",
      "source": [
        "#Questions 7:\n",
        "import requests\n",
        "from bs4 import BeautifulSoup\n",
        "\n",
        "def webdir(url, depth, indent):\n",
        "    if depth < 0:\n",
        "        return\n",
        "    print(\" \" * indent + url)\n",
        "    try:\n",
        "        response = requests.get(url)\n",
        "        soup = BeautifulSoup(response.text, \"html.parser\")\n",
        "        links = soup.find_all(\"a\", href=True)\n",
        "        for link in links:\n",
        "            full_url = requests.compat.urljoin(url, link['href'])\n",
        "            webdir(full_url, depth - 1, indent + 2)\n",
        "    except Exception as e:\n",
        "        print(\" \" * (indent + 2) + f\"Error: {e}\")\n",
        "\n",
        "webdir('http://reed.cs.depaul.edu/lperkovic/csc242/test1.html', 2, 0)"
      ],
      "metadata": {
        "colab": {
          "base_uri": "https://localhost:8080/"
        },
        "id": "gp6msuhzUdJH",
        "outputId": "7fb4e875-6115-44c4-9054-2872f693eb9e"
      },
      "execution_count": 11,
      "outputs": [
        {
          "output_type": "stream",
          "name": "stdout",
          "text": [
            "http://reed.cs.depaul.edu/lperkovic/csc242/test1.html\n"
          ]
        }
      ]
    },
    {
      "cell_type": "code",
      "execution_count": 10,
      "metadata": {
        "colab": {
          "base_uri": "https://localhost:8080/"
        },
        "id": "RYdfOspIP_HN",
        "outputId": "d6d78c5f-e3d0-4a72-e391-84e1895102ce"
      },
      "outputs": [
        {
          "output_type": "stream",
          "name": "stdout",
          "text": [
            "Uppercase Words: ['THE', 'QUICK', 'BROWN', 'FOX', 'JUMPS', 'OVER', 'THE', 'LAZY', 'DOG']\n",
            "Lowercase Words: ['the', 'quick', 'brown', 'fox', 'jumps', 'over', 'the', 'lazy', 'dog']\n",
            "Word Lengths: [3, 5, 5, 3, 5, 4, 3, 4, 3]\n",
            "Detailed Words: [['THE', 'the', 3], ['QUICK', 'quick', 5], ['BROWN', 'brown', 5], ['FOX', 'fox', 3], ['JUMPS', 'jumps', 5], ['OVER', 'over', 4], ['THE', 'the', 3], ['LAZY', 'lazy', 4], ['DOG', 'dog', 3]]\n",
            "Words with 4 or More Characters: ['quick', 'brown', 'jumps', 'over', 'lazy']\n"
          ]
        }
      ],
      "source": [
        "# Question 9:\n",
        "words = ['The', 'quick', 'brown', 'fox', 'jumps', 'over', 'the', 'lazy', 'dog']\n",
        "\n",
        "uppercase_words = [word.upper() for word in words]\n",
        "\n",
        "lowercase_words = [word.lower() for word in words]\n",
        "\n",
        "word_lengths = [len(word) for word in words]\n",
        "\n",
        "detailed_words = [[word.upper(), word.lower(), len(word)] for word in words]\n",
        "\n",
        "four_or_more_chars = [word for word in words if len(word) >= 4]\n",
        "\n",
        "print(\"Uppercase Words:\", uppercase_words)\n",
        "print(\"Lowercase Words:\", lowercase_words)\n",
        "print(\"Word Lengths:\", word_lengths)\n",
        "print(\"Detailed Words:\", detailed_words)\n",
        "print(\"Words with 4 or More Characters:\", four_or_more_chars)\n"
      ]
    },
    {
      "cell_type": "code",
      "source": [],
      "metadata": {
        "id": "OmcmvReyWIAt"
      },
      "execution_count": null,
      "outputs": []
    }
  ]
}